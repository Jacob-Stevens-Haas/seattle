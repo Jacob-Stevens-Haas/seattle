{
 "cells": [
  {
   "cell_type": "markdown",
   "metadata": {},
   "source": [
    "# Example Notebook\n",
    "\n",
    "\n",
    "Set up:\n",
    "requirements.txt and environment.yml include a variety of packges needed to run spyder\n",
    "and jupyter notebooks with your virtual environment.  Once you have activated your\n",
    "virtual environment, run\n",
    "```\n",
    "python -m ipykernel install --name=\"<what you want to name the kernel in jupyter>\"\n",
    "```\n",
    "For the environment I built with `python -m venv`, I named the kernel seattle-venv.  \n",
    "For the environment I built with `conda env create -f environment.yml`, I named the \n",
    "kernel seattle-conda.  Name yours what you want.\n",
    "\n",
    "__Warning:__ Notebooks can be a bad tool.  I added .ipynb files to the .gitignore\n",
    "so as to prevent them from sharing by default.  The biggest reason for this is\n",
    "that git is built for text files.  jupyter notebooks are JSON files, which while \n",
    "text-based, cause a lot of difficulty in git when cells are added or removed or output\n",
    "of the cells change or are binary (think PyPlot)  My recommendation is that if you have\n",
    "code that isn't modular enough to put in a library, move it from a notebook to a script\n",
    "that saves output in files.  If needs be have the notebook import that script \n",
    "and just call visualization methods that exist in the script. \n",
    "1. Hidden state due to out-of-order execution and revised cells \n",
    "1. They teach bad habits\n",
    "1. They make git even harder to use (same code but different order, \n",
    "1. No linting, type checking\n",
    "1. Hard to integrate into a testing framework using unittest, mypy, etc.\n",
    "1. Can't document them using sphinx.\n",
    "1. Ineffective autocomplete\n",
    "1. Hard to copy and paste into slack.\n",
    "\n",
    "If you didn't name your kernel seattle-venv, you may start to see the issues created when\n",
    "collaborating on a jupyter notebook with git."
   ]
  },
  {
   "cell_type": "code",
   "execution_count": 1,
   "metadata": {},
   "outputs": [],
   "source": [
    "from seattle import needle, utils"
   ]
  },
  {
   "cell_type": "markdown",
   "metadata": {},
   "source": [
    "The skeleton repository does very little.  It allows someone to track riders up and down the various Seattle-based attractions, e.g. the space needle, the rain needle, the Chihuly needle.  You may not have heard of those latter needles, but the `seattle` package, in particular the `needle` module, allows you to create them as an instance of the `SeattleAttraction` class.  I'm not really going to describe what I'm doing here, as it should be obvious."
   ]
  },
  {
   "cell_type": "code",
   "execution_count": 2,
   "metadata": {},
   "outputs": [],
   "source": [
    "records = utils.load_records('example.csv')"
   ]
  },
  {
   "cell_type": "code",
   "execution_count": 3,
   "metadata": {},
   "outputs": [],
   "source": [
    "salmon_needle = needle.SeattleAttraction('Salmon', '00:00:01', '23:59:59')"
   ]
  },
  {
   "cell_type": "code",
   "execution_count": 4,
   "metadata": {},
   "outputs": [],
   "source": [
    "records = utils.add_ride(records, salmon_needle, 'Chief Seattle', '04:00:00', '05:30:00')"
   ]
  },
  {
   "cell_type": "code",
   "execution_count": 5,
   "metadata": {},
   "outputs": [
    {
     "data": {
      "text/html": [
       "<div>\n",
       "<style scoped>\n",
       "    .dataframe tbody tr th:only-of-type {\n",
       "        vertical-align: middle;\n",
       "    }\n",
       "\n",
       "    .dataframe tbody tr th {\n",
       "        vertical-align: top;\n",
       "    }\n",
       "\n",
       "    .dataframe thead th {\n",
       "        text-align: right;\n",
       "    }\n",
       "</style>\n",
       "<table border=\"1\" class=\"dataframe\">\n",
       "  <thead>\n",
       "    <tr style=\"text-align: right;\">\n",
       "      <th></th>\n",
       "      <th>person</th>\n",
       "      <th>attraction</th>\n",
       "      <th>start</th>\n",
       "      <th>end</th>\n",
       "    </tr>\n",
       "  </thead>\n",
       "  <tbody>\n",
       "    <tr>\n",
       "      <th>0</th>\n",
       "      <td>Chief Seattle</td>\n",
       "      <td>Salmon needle</td>\n",
       "      <td>04:00:00</td>\n",
       "      <td>05:30:00</td>\n",
       "    </tr>\n",
       "  </tbody>\n",
       "</table>\n",
       "</div>"
      ],
      "text/plain": [
       "          person     attraction     start       end\n",
       "0  Chief Seattle  Salmon needle  04:00:00  05:30:00"
      ]
     },
     "execution_count": 5,
     "metadata": {},
     "output_type": "execute_result"
    }
   ],
   "source": [
    "records"
   ]
  },
  {
   "cell_type": "code",
   "execution_count": 6,
   "metadata": {},
   "outputs": [],
   "source": [
    "utils.save_records(records, 'deleteme.csv')"
   ]
  },
  {
   "cell_type": "markdown",
   "metadata": {},
   "source": [
    "And that's the package.  There's some additional custom exceptions that prohibit riding a needle before it's open, etc.  As I mentioned, this distribution only exists to show you how to make a maintainable python distribution.   Once you're satisfied that you know how the module is working, you can run the following to delete the file you just created.  Then watch the video on why you should be wary of notebooks https://www.youtube.com/watch?v=7jiPeIFXb6U&feature=youtu.be."
   ]
  },
  {
   "cell_type": "code",
   "execution_count": 7,
   "metadata": {},
   "outputs": [],
   "source": [
    "import os\n",
    "os.remove(utils.data_dir / 'deleteme.csv')"
   ]
  }
 ],
 "metadata": {
  "kernelspec": {
   "display_name": "seattle-venv",
   "language": "python",
   "name": "seattle-venv"
  },
  "language_info": {
   "codemirror_mode": {
    "name": "ipython",
    "version": 3
   },
   "file_extension": ".py",
   "mimetype": "text/x-python",
   "name": "python",
   "nbconvert_exporter": "python",
   "pygments_lexer": "ipython3",
   "version": "3.7.3"
  }
 },
 "nbformat": 4,
 "nbformat_minor": 2
}
